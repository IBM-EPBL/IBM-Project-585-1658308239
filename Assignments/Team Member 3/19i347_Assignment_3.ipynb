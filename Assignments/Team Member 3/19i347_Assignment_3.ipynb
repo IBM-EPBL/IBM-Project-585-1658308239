{
  "nbformat": 4,
  "nbformat_minor": 0,
  "metadata": {
    "colab": {
      "provenance": []
    },
    "kernelspec": {
      "name": "python3",
      "display_name": "Python 3"
    },
    "language_info": {
      "name": "python"
    }
  },
  "cells": [
    {
      "cell_type": "markdown",
      "source": [
        "\n",
        "Roll No      : 19I347\n",
        "\n",
        "\n",
        "Name         : Shanmathy S\n",
        "\n",
        "\n",
        "Project Name : Estimate The Crop Yield Using Data Analytics\n"
      ],
      "metadata": {
        "id": "1pWX9mSVNYaJ"
      }
    },
    {
      "cell_type": "markdown",
      "source": [
        "**Exercises**\n",
        "\n",
        "\n",
        "Answer the questions or complete the tasks outlined in bold below, use the specific method described if applicable."
      ],
      "metadata": {
        "id": "JuilDK5_ClVV"
      }
    },
    {
      "cell_type": "markdown",
      "source": [
        "1. What is 7 to the power of 4?"
      ],
      "metadata": {
        "id": "A8vVknB8CzRP"
      }
    },
    {
      "cell_type": "code",
      "execution_count": null,
      "metadata": {
        "colab": {
          "base_uri": "https://localhost:8080/"
        },
        "id": "OjJXGBoeCkYp",
        "outputId": "5bd7d353-8b0f-4f97-f949-50a2cd76e320"
      },
      "outputs": [
        {
          "output_type": "execute_result",
          "data": {
            "text/plain": [
              "2401"
            ]
          },
          "metadata": {},
          "execution_count": 1
        }
      ],
      "source": [
        "7**4"
      ]
    },
    {
      "cell_type": "markdown",
      "source": [
        "Split this string:\n",
        "\n",
        "s = \"Hi there Sam!\" into a list"
      ],
      "metadata": {
        "id": "dkeJ2igFC95M"
      }
    },
    {
      "cell_type": "code",
      "source": [
        "s = \"Hi there Sam!\"\n",
        "print(s.split())\n"
      ],
      "metadata": {
        "colab": {
          "base_uri": "https://localhost:8080/"
        },
        "id": "1wKB5m1iDAef",
        "outputId": "1ca4a55e-3d05-4214-b503-ad8e6b69bca1"
      },
      "execution_count": null,
      "outputs": [
        {
          "output_type": "stream",
          "name": "stdout",
          "text": [
            "['Hi', 'there', 'Sam!']\n"
          ]
        }
      ]
    },
    {
      "cell_type": "markdown",
      "source": [
        "Given the variables:\n",
        "\n",
        "planet = \"Earth\"\n",
        "diameter = 12742\n",
        "\n",
        "Use .format() to print the following string:\n",
        "\n",
        "The diameter of Earth is 12742 kilometers."
      ],
      "metadata": {
        "id": "vsF_rj0oDVPw"
      }
    },
    {
      "cell_type": "code",
      "source": [
        "planet = \"Earth\" \n",
        "diameter = 12742\n",
        "print(f'The diameter of {planet} is {diameter} kilometers'.format(planet, diameter))"
      ],
      "metadata": {
        "colab": {
          "base_uri": "https://localhost:8080/"
        },
        "id": "5CRWxpwvECDC",
        "outputId": "8c5b38f9-cb30-4fdf-8cee-707d44fa5c52"
      },
      "execution_count": null,
      "outputs": [
        {
          "output_type": "stream",
          "name": "stdout",
          "text": [
            "The diameter of Earth is 12742 kilometers\n"
          ]
        }
      ]
    },
    {
      "cell_type": "markdown",
      "source": [
        "Given this nested list, use indexing to grab the word \"hello\""
      ],
      "metadata": {
        "id": "8akFTnT_Exe4"
      }
    },
    {
      "cell_type": "code",
      "source": [
        "lst = [1,2,[3,4],[5,[100,200,['hello']],23,11],1,7]\n",
        "ans = lst[3][1][2]\n",
        "print(ans)"
      ],
      "metadata": {
        "colab": {
          "base_uri": "https://localhost:8080/"
        },
        "id": "HDW8yKoBE2LN",
        "outputId": "75099efb-2eb2-4f6e-82df-abe67baf2469"
      },
      "execution_count": null,
      "outputs": [
        {
          "output_type": "stream",
          "name": "stdout",
          "text": [
            "['hello']\n"
          ]
        }
      ]
    },
    {
      "cell_type": "markdown",
      "source": [
        "Given this nest dictionary grab the word \"hello\". Be prepared, this will be annoying/tricky"
      ],
      "metadata": {
        "id": "KBFCSSDtFA0O"
      }
    },
    {
      "cell_type": "code",
      "source": [
        "d = {'k1':[1,2,3,{'tricky':['oh','man','inception',{'target':[1,2,3,'hello']}]}]}\n",
        "print(d['k1'][3]['tricky'][3]['target'][3])\n"
      ],
      "metadata": {
        "colab": {
          "base_uri": "https://localhost:8080/"
        },
        "id": "HypFvw5GFDsk",
        "outputId": "8dbc0dd3-3790-4f7c-a02f-1cb95e2a85fc"
      },
      "execution_count": null,
      "outputs": [
        {
          "output_type": "stream",
          "name": "stdout",
          "text": [
            "hello\n"
          ]
        }
      ]
    },
    {
      "cell_type": "markdown",
      "source": [
        "What is the main difference between a tuple and a list?"
      ],
      "metadata": {
        "id": "2YXT611KFdKa"
      }
    },
    {
      "cell_type": "markdown",
      "source": [
        "1. Tuples are immutable in nature whereas list is mutable\n",
        "2. Tuples are enclosed within () whereas list is enclosed within []\n",
        "3. Tuples take up less memory space when compared to lists"
      ],
      "metadata": {
        "id": "DVgftGrHFgKF"
      }
    },
    {
      "cell_type": "markdown",
      "source": [
        "Create a function that grabs the email website domain from a string in the form:\n",
        "\n",
        "user@domain.com\n",
        "\n",
        "So for example, passing \"user@domain.com\" would return: domain.com"
      ],
      "metadata": {
        "id": "Q8OxMMzgFzGw"
      }
    },
    {
      "cell_type": "code",
      "source": [
        "def domain_finder(email):\n",
        "  return email.split(\"@\")[-1]\n",
        "print(domain_finder(\"user@domain.com\"))"
      ],
      "metadata": {
        "colab": {
          "base_uri": "https://localhost:8080/"
        },
        "id": "G-F3GvjJF4vP",
        "outputId": "3be8edc1-cbae-48c1-b9b8-3cb2a08ee1ad"
      },
      "execution_count": null,
      "outputs": [
        {
          "output_type": "stream",
          "name": "stdout",
          "text": [
            "domain.com\n"
          ]
        }
      ]
    },
    {
      "cell_type": "markdown",
      "source": [
        "Create a basic function that returns True if the word 'dog' is contained in the input string. Don't worry about edge cases like a punctuation being attached to the word dog, but do account for capitalization."
      ],
      "metadata": {
        "id": "aHraWG_VGRO9"
      }
    },
    {
      "cell_type": "code",
      "source": [
        "def find_dog(s):\n",
        "  st = s.lower()\n",
        "  if 'dog' in st:\n",
        "    return True\n",
        "  else:\n",
        "    return False\n",
        "s = \"Do you have a dog?\"\n",
        "if(find_dog(s)):\n",
        "  print(\"True\")\n",
        "else:\n",
        "  print(\"False\")\n"
      ],
      "metadata": {
        "colab": {
          "base_uri": "https://localhost:8080/"
        },
        "id": "dAbKONbuGQyK",
        "outputId": "5d013544-f315-453a-870a-5547998aa7d6"
      },
      "execution_count": null,
      "outputs": [
        {
          "output_type": "stream",
          "name": "stdout",
          "text": [
            "True\n"
          ]
        }
      ]
    },
    {
      "cell_type": "markdown",
      "source": [
        "Create a function that counts the number of times the word \"dog\" occurs in a string. Again ignore edge cases."
      ],
      "metadata": {
        "id": "mXJnBw4hG8Uv"
      }
    },
    {
      "cell_type": "code",
      "source": [
        "def dog_count(s):\n",
        "  st = s.lower()\n",
        "  count = 0\n",
        "  for i in st.split():\n",
        "    if i == 'dog' or i=='dogs':\n",
        "      count += 1\n",
        "  return count\n",
        "value = 'This dog runs faster than the other dog dude!';\n",
        "print(dog_count(value))\n"
      ],
      "metadata": {
        "colab": {
          "base_uri": "https://localhost:8080/"
        },
        "id": "-VyFcv9gHA0o",
        "outputId": "8b7d8254-54a1-4e34-f995-14626b9d20e5"
      },
      "execution_count": null,
      "outputs": [
        {
          "output_type": "stream",
          "name": "stdout",
          "text": [
            "2\n"
          ]
        }
      ]
    },
    {
      "cell_type": "markdown",
      "source": [
        "You are driving a little too fast, and a police officer stops you. Write a function to return one of 3 possible results: \"No ticket\", \"Small ticket\", or \"Big Ticket\". If your speed is 60 or less, the result is \"No Ticket\". If speed is between 61 and 80 inclusive, the result is \"Small Ticket\". If speed is 81 or more, the result is \"Big Ticket\". Unless it is your birthday (encoded as a boolean value in the parameters of the function) -- on your birthday, your speed can be 5 higher in all cases."
      ],
      "metadata": {
        "id": "t0g3V3xsHrUX"
      }
    },
    {
      "cell_type": "code",
      "source": [
        "def speed_check(speed, is_bday):\n",
        "  if is_bday:\n",
        "    speeding = speed - 5\n",
        "  else:\n",
        "    speeding  = speed\n",
        "  if speeding <= 60:\n",
        "    print(\"No ticket\")\n",
        "  elif speeding >= 61 and speeding<=80:\n",
        "    print(\"Small ticket\")\n",
        "  else:\n",
        "    print(\"Big ticket\")\n",
        "speed_check(45,False)\n",
        "\n"
      ],
      "metadata": {
        "colab": {
          "base_uri": "https://localhost:8080/"
        },
        "id": "YxJD96brHz6K",
        "outputId": "ff7b0bac-9cba-40a8-90f6-549a29be5a7f"
      },
      "execution_count": null,
      "outputs": [
        {
          "output_type": "stream",
          "name": "stdout",
          "text": [
            "No ticket\n"
          ]
        }
      ]
    },
    {
      "cell_type": "markdown",
      "source": [
        "Create an employee list with basic salary values(at least 5 values for 5 employees) and using a for loop retreive each employee salary and calculate total salary expenditure."
      ],
      "metadata": {
        "id": "V5lsF-t4InN7"
      }
    },
    {
      "cell_type": "code",
      "source": [
        "emp_salary = {}\n",
        "emp_names = [\"Shannu\",\"Shruti\",\"Pooja\",\"Miru\",\"Sakthi\"]\n",
        "for i in emp_names:\n",
        "  emp_salary[i] = int(input())\n",
        "s = 0\n",
        "for k in emp_salary.values():\n",
        "  s += k\n",
        "print(\"The total salary expenditure is: \" + str(s))\n"
      ],
      "metadata": {
        "colab": {
          "base_uri": "https://localhost:8080/"
        },
        "id": "tYMpqvNgJFcG",
        "outputId": "530ea55f-bec0-4037-c490-c7d41629defa"
      },
      "execution_count": 3,
      "outputs": [
        {
          "output_type": "stream",
          "name": "stdout",
          "text": [
            "10000\n",
            "200987\n",
            "54576\n",
            "76778\n",
            "76876\n",
            "The total salary expenditure is: 419217\n"
          ]
        }
      ]
    },
    {
      "cell_type": "markdown",
      "source": [
        "Create two dictionaries in Python:\n",
        "\n",
        "First one to contain fields as Empid, Empname, Basicpay\n",
        "\n",
        "Second dictionary to contain fields as DeptName, DeptId.\n",
        "\n",
        "Combine both dictionaries."
      ],
      "metadata": {
        "id": "_o73rZEfKKOq"
      }
    },
    {
      "cell_type": "code",
      "source": [
        "dict1 = {'Empid' : 1, 'Empname' : 'Shannu', 'Basicpay': 1000}\n",
        "dict2 = {'DeptName': 'IT', 'DeptId': '2' }\n",
        "res = {**dict1, **dict2}\n",
        "print(res)"
      ],
      "metadata": {
        "colab": {
          "base_uri": "https://localhost:8080/"
        },
        "id": "zzfNkk3bKNb4",
        "outputId": "d2e25097-34ca-4637-d490-93af2386091d"
      },
      "execution_count": 1,
      "outputs": [
        {
          "output_type": "stream",
          "name": "stdout",
          "text": [
            "{'Empid': 1, 'Empname': 'Shannu', 'Basicpay': 1000, 'DeptName': 'IT', 'DeptId': '2'}\n"
          ]
        }
      ]
    }
  ]
}